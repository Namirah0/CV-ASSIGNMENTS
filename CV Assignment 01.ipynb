{
 "cells": [
  {
   "cell_type": "code",
   "execution_count": null,
   "id": "cc60d94d",
   "metadata": {},
   "outputs": [],
   "source": [
    "1. What exactly is a feature?\n",
    "Ans: Ans: A feature is a measurable property of the object you’re trying to analyze. In datasets, features appear as columns:\n",
    "The image above contains a snippet of data from a public dataset with information about passengers on the ill-fated Titanic \n",
    "maiden voyage. Each feature, or column, represents a measurable piece of data that can be used for analysis: Name, Age, Sex, \n",
    "Fare, and so on. Features are also sometimes referred to as “variables” or “attributes.” Depending on what you’re trying to \n",
    "analyze, the features you include in your dataset can vary widely."
   ]
  },
  {
   "cell_type": "code",
   "execution_count": null,
   "id": "e0895899",
   "metadata": {},
   "outputs": [],
   "source": [
    "2. For a top edge detector, write out the convolutional kernel matrix.\n",
    "Ans: In image processing, a kernel, convolution matrix, or mask is a small matrix used for blurring, sharpening, embossing, \n",
    "    edge detection, and more. This is accomplished by doing a convolution between the kernel and an image. Or more simply, \n",
    "    when each pixel in the output image is a function of the nearby pixels (including itself) in the input image, the kernel is \n",
    "    that function.\n",
    "    Convolution is the process of adding each element of the image to its local neighbors, weighted by the kernel. This is \n",
    "    related to a form of mathematical convolution. The matrix operation being performed—convolution—is not traditional matrix \n",
    "    multiplication, despite being similarly denoted by *.\n",
    "\n",
    "For example, if we have two three-by-three matrices, the first a kernel, and the second an image piece, convolution is the\n",
    "process of flipping both the rows and columns of the kernel and multiplying locally similar entries and summing."
   ]
  },
  {
   "cell_type": "code",
   "execution_count": null,
   "id": "a43b96bb",
   "metadata": {},
   "outputs": [],
   "source": [
    "3. Describe the mathematical operation that a 3x3 kernel performs on a single pixel in an image.\n",
    "Ans: An image kernel is a small matrix used to apply effects like the ones you might find in Photoshop or Gimp, such as \n",
    "    blurring, sharpening, outlining or embossing. They're also used in machine learning for 'feature extraction', a technique\n",
    "    for determining the most important portions of an image\n",
    "    for each 3x3 block of pixels in the image on the left, we multiply each pixel by the corresponding entry of the kernel and\n",
    "    then take the sum. That sum becomes a new pixel in the image on the right. Hover over a pixel on either image to see how \n",
    "    its value is computed."
   ]
  },
  {
   "cell_type": "code",
   "execution_count": null,
   "id": "d6b39f78",
   "metadata": {},
   "outputs": [],
   "source": [
    "4. What is the significance of a convolutional kernel added to a 3x3 matrix of zeroes?\n",
    "Ans: Here is a mathematician's domain. Most of filters are using convolution matrix. With the Convolution Matrix filter, if the\n",
    "    fancy takes you, you can build a custom filter.\n",
    "\n",
    "What is a convolution matrix? It's possible to get a rough idea of it without using mathematical tools that only a few ones \n",
    "know. Convolution is the treatment of a matrix by another one which is called “kernel”.\n",
    "\n",
    "The Convolution Matrix filter uses a first matrix which is the Image to be treated. The image is a bi-dimensional collection of\n",
    "pixels in rectangular coordinates. The used kernel depends on the effect you want.\n",
    "\n",
    "GIMP uses 5x5 or 3x3 matrices. We will consider only 3x3 matrices, they are the most used and they are enough for all effects \n",
    "you want. If all border values of a kernel are set to zero, then system will consider it as a 3x3 matrix.\n",
    "\n",
    "The filter studies successively every pixel of the image. For each of them, which we will call the “initial pixel”, it \n",
    "multiplies the value of this pixel and values of the 8 surrounding pixels by the kernel corresponding value. Then it adds the \n",
    "results, and the initial pixel is set to this final result value."
   ]
  },
  {
   "cell_type": "code",
   "execution_count": null,
   "id": "2801e119",
   "metadata": {},
   "outputs": [],
   "source": [
    "5. What exactly is padding?\n",
    "Ans: Padding is a term relevant to convolutional neural networks as it refers to the amount of pixels added to an image when \n",
    "    it is being processed by the kernel of a CNN. For example, if the padding in a CNN is set to zero, then every pixel value \n",
    "    that is added will be of value zero. If, however, the zero padding is set to one, there will be a one pixel border added to\n",
    "    the image with a pixel value of zero.\n",
    "    Padding works by extending the area of which a convolutional neural network processes an image. The kernel is the neural \n",
    "    networks filter which moves across the image, scanning each pixel and converting the data into a smaller, or sometimes \n",
    "    larger, format. In order to assist the kernel with processing the image, padding is added to the frame of the image to \n",
    "    allow for more space for the kernel to cover the image. Adding padding to an image processed by a CNN allows for more \n",
    "    accurate analysis of images."
   ]
  },
  {
   "cell_type": "code",
   "execution_count": null,
   "id": "fa4bfb3a",
   "metadata": {},
   "outputs": [],
   "source": [
    "6. What is the concept of stride?\n",
    "Ans: Stride is a component of convolutional neural networks, or neural networks tuned for the compression of images and video\n",
    "    data. Stride is a parameter of the neural network's filter that modifies the amount of movement over the image or video. \n",
    "    For example, if a neural network's stride is set to 1, the filter will move one pixel, or unit, at a time. The size of the\n",
    "    filter affects the encoded output volume, so stride is often set to a whole integer, rather than a fraction or decimal.\n",
    "    Imagine a convolutional neural network is taking an image and analyzing the content. If the filter size is 3x3 pixels, the \n",
    "    contained nine pixels will be converted down to 1 pixel in the output layer. Naturally, as the stride, or movement, is \n",
    "    increased, the resulting output will be smaller. Stride is a parameter that works in conjunction with padding, the feature \n",
    "    that adds blank, or empty pixels to the frame of the image to allow for a minimized reduction of size in the output layer. \n",
    "    Roughly, it is a way of increasing the size of an image, to counteract the fact that stride reduces the size. Padding and \n",
    "    stride are the foundational parameters of any convolutional neural network."
   ]
  },
  {
   "cell_type": "code",
   "execution_count": null,
   "id": "f020caf0",
   "metadata": {},
   "outputs": [],
   "source": [
    "8. What exactly is a channel?\n",
    "Ans: Just like any other layer, a convolutional layer receives input, transforms the input in some way, and then outputs the\n",
    "    transformed input to the next layer. The inputs to convolutional layers are called input channels, and the outputs are \n",
    "    called output channels.\n",
    "    "
   ]
  },
  {
   "cell_type": "code",
   "execution_count": null,
   "id": "889ae82d",
   "metadata": {},
   "outputs": [],
   "source": [
    "9.Explain relationship between matrix multiplication and a convolution?\n",
    "Ans: Convolutions can be mapped as matrix multiplication operations by flattening and rearranging the weights and input \n",
    "    features. As illustrated in Figure 2, 64 × 3 kernels with a size of 3 × 3 are mapped to a rearranged matrix with dimensions \n",
    "    of 64 × (3 × 3 × 3).\n",
    "    domain, you simply multiply the signal(X)-which is matrix with Signal(Y), which is also a matrix. So, now you will be able \n",
    "    to understand that, Yes convolution is same as matrix multiplication(where matrix X and Y matrix of signal) but ONLY IN \n",
    "    FREQUENCY DOMAIN."
   ]
  }
 ],
 "metadata": {
  "kernelspec": {
   "display_name": "Python 3 (ipykernel)",
   "language": "python",
   "name": "python3"
  },
  "language_info": {
   "codemirror_mode": {
    "name": "ipython",
    "version": 3
   },
   "file_extension": ".py",
   "mimetype": "text/x-python",
   "name": "python",
   "nbconvert_exporter": "python",
   "pygments_lexer": "ipython3",
   "version": "3.9.7"
  }
 },
 "nbformat": 4,
 "nbformat_minor": 5
}
