{
 "cells": [
  {
   "cell_type": "code",
   "execution_count": null,
   "id": "62fdcc35",
   "metadata": {},
   "outputs": [],
   "source": [
    "1. What is the difference between TRAINABLE and NON-TRAINABLE PARAMETERS ?\n",
    "Ans: To sum-up: 'trainable parameters' are those which value is modified according to their gradient (the derivative of the\n",
    "    error/loss/cost relative to the parameter), whereas 'non-trainable parameters' are those which value is not optimized \n",
    "    according to their gradient."
   ]
  },
  {
   "cell_type": "code",
   "execution_count": null,
   "id": "dd4b004c",
   "metadata": {},
   "outputs": [],
   "source": [
    "2. In the CNN architecture, where does the DROPOUT LAYER go ?\n",
    "Ans: We can apply a Dropout layer to the input vector, in which case it nullifies some of its features; but we can also apply \n",
    "    it to a hidden layer, in which case it nullifies some hidden neurons."
   ]
  },
  {
   "cell_type": "code",
   "execution_count": null,
   "id": "da1f876f",
   "metadata": {},
   "outputs": [],
   "source": [
    "3. What is the optimal number of hidden layers to stack ?\n",
    "Ans: If data is less complex and is having fewer dimensions or features then neural networks with 1 to 2 hidden layers would\n",
    "    work. If data is having large dimensions or features then to get an optimum solution, 3 to 5 hidden layers can be used."
   ]
  },
  {
   "cell_type": "code",
   "execution_count": null,
   "id": "66fd685e",
   "metadata": {},
   "outputs": [],
   "source": [
    "4. In each layer, how many secret units or filters should there be ?\n",
    "Ans: If data is less complex and is having fewer dimensions or features then neural networks with 1 to 2 hidden layers would\n",
    "    work. If data is having large dimensions or features then to get an optimum solution, 3 to 5 hidden layers can be used."
   ]
  },
  {
   "cell_type": "code",
   "execution_count": null,
   "id": "e19039df",
   "metadata": {},
   "outputs": [],
   "source": [
    "5. What should your initial learning rate be ?\n",
    "Ans: A traditional default value for the learning rate is 0.1 or 0.01, and this may represent a good starting point on your \n",
    "    problem."
   ]
  },
  {
   "cell_type": "code",
   "execution_count": null,
   "id": "4b512e60",
   "metadata": {},
   "outputs": [],
   "source": [
    "6. What do you do with the activation function ?\n",
    "Ans: The activation functions' goal is to make a neuron's output less linear. We know that neurons in neural networks behave\n",
    "    according to weight, bias, and their respective activation roles. We would adjust the weights and biases of the neurons in\n",
    "    a neural network based on the output inaccuracy."
   ]
  },
  {
   "cell_type": "code",
   "execution_count": null,
   "id": "34aec930",
   "metadata": {},
   "outputs": [],
   "source": [
    "7. What is NORMALIZATION OF DATA ?\n",
    "Ans: Normalization is the process of organizing data in a database. This includes creating tables and establishing relationships\n",
    "    between those tables according to rules designed both to protect the data and to make the database more flexible by \n",
    "    eliminating redundancy and inconsistent dependency."
   ]
  },
  {
   "cell_type": "code",
   "execution_count": null,
   "id": "d785db71",
   "metadata": {},
   "outputs": [],
   "source": [
    "8. What is IMAGE AUGMENTATION and how does it work ?\n",
    "Ans: Image data augmentation is a technique that creates new images from existing ones. To do that, you make some small \n",
    "    changes to them, such as adjusting the brightness of the image, or rotating the image, or shifting the subject in the \n",
    "    image horizontally or vertically."
   ]
  },
  {
   "cell_type": "code",
   "execution_count": null,
   "id": "dc86cbf1",
   "metadata": {},
   "outputs": [],
   "source": [
    "9. What is DECLINE IN LEARNING RATE ?\n",
    "Ans: Perhaps the simplest learning rate schedule is to decrease the learning rate linearly from a large initial value to a \n",
    "    small value. This allows large weight changes in the beginning of the learning process and small changes or fine-tuning \n",
    "    towards the end of the learning process."
   ]
  },
  {
   "cell_type": "code",
   "execution_count": null,
   "id": "f1803dee",
   "metadata": {},
   "outputs": [],
   "source": [
    "10. What does EARLY STOPPING CRITERIA mean ?\n",
    "Ans: Early stopping is a method that allows you to specify an arbitrary large number of training epochs and stop training once\n",
    "    the model performance stops improving on a hold out validation dataset. In this tutorial, you will discover the Keras API \n",
    "    for adding early stopping to overfit deep learning neural network models."
   ]
  }
 ],
 "metadata": {
  "kernelspec": {
   "display_name": "Python 3 (ipykernel)",
   "language": "python",
   "name": "python3"
  },
  "language_info": {
   "codemirror_mode": {
    "name": "ipython",
    "version": 3
   },
   "file_extension": ".py",
   "mimetype": "text/x-python",
   "name": "python",
   "nbconvert_exporter": "python",
   "pygments_lexer": "ipython3",
   "version": "3.9.7"
  }
 },
 "nbformat": 4,
 "nbformat_minor": 5
}
