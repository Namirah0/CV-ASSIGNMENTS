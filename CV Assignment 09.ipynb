{
 "cells": [
  {
   "cell_type": "code",
   "execution_count": null,
   "id": "899ebfc9",
   "metadata": {},
   "outputs": [],
   "source": [
    "1. What are the advantages of a CNN for image classification over a completely linked DNN ?\n",
    "Ans:1. CNN's layers are only partially connnected and reuses its weights.\n",
    "2.learned a kernel which can detect a particular features.\n",
    "3.A CNN's architecture embeds this prior knowledge."
   ]
  },
  {
   "cell_type": "code",
   "execution_count": null,
   "id": "0d90471b",
   "metadata": {},
   "outputs": [],
   "source": [
    "2. Consider a CNN with three convolutional layers, each of which has three kernels, a stride of two, and SAME padding. The \n",
    "bottom layer generates 100 function maps, the middle layer 200, and the top layer 400. RGB images with a size of 200 x 300 \n",
    "pixels are used as input. How many criteria does the CNN have in total? How much RAM would this network need when making a \n",
    "single instance prediction if we're using 32-bit floats? What if you were to practice on a batch of 50 images ?\n",
    "Ans:parameters\n",
    "\n",
    "first convolutional layer kernel-size and RGB channels, plus bias: 3 * 3 * 3 + 1 = 28 output feature maps is 100: 28 * 100=2800\n",
    "second convolutional layer kernel-size and last feature maps, plus bias: 3 * 3 * 100 + 1 = 901 output feature maps is 200: 901 * 200 = 180200\n",
    "third convolutional layers kernel-size and last feautre maps, plus bias: 3 * 3 * 200 + 1 =1801 output feautre maps is 400: 1801 * 400 = 720400\n",
    "Total parameters is 2800 + 180200 + 720400 = 903400\n",
    "\n",
    "memories since 32-bit is 4 bytes\n",
    "\n",
    "first convolutional layer one feature map size: 100 * 150 = 15000 total output: 15000 * 100 = 1,500,000\n",
    "second convolutional layer one feature map size: 50 * 75 = 3,750 total output: 3750 * 200 = 750,000\n",
    "third convolutional layer one feature map size: 25 * 38 = 950 total ouput: 950 * 400 = 380, 000\n",
    "(1,500,000 + 750,000 + 380,000) * 4 / 1024 /1024 = 10.032 (MB) 903400 * 4 / 1024 / 1024 = 3.44 (MB) 10.032+ 3.44=13.47(MB)"
   ]
  },
  {
   "cell_type": "code",
   "execution_count": null,
   "id": "5cd67b31",
   "metadata": {},
   "outputs": [],
   "source": [
    "3. What are five things you might do to fix the problem if your GPU runs out of memory while training a CNN ?\n",
    "Ans: 1.reduce mini-batch size\n",
    "2.reduce dimensionality using a larger stride in one or more layers\n",
    "3.remove one or more layers\n",
    "4.using 16-bits instead of 32-bit floats\n",
    "5.distributed the cnn across multiple devices"
   ]
  },
  {
   "cell_type": "code",
   "execution_count": null,
   "id": "6c244b3f",
   "metadata": {},
   "outputs": [],
   "source": [
    "4. Why would you use a max pooling layer instead with a convolutional layer of the same stride ?\n",
    "Ans:A max pooling layer has no parameters at all, whereas a convolutional layer has quite a few."
   ]
  },
  {
   "cell_type": "code",
   "execution_count": null,
   "id": "00fc54f5",
   "metadata": {},
   "outputs": [],
   "source": [
    "5. When would a local response normalization layer be useful ?\n",
    "Ans: This is useful when we are dealing with ReLU neurons. ReLU neurons have unbounded activations, and we need local response\n",
    "    normalization (LRN) to normalize them. To do this, we need to identify high frequency features. By applying LRN, the \n",
    "    neurons becomes more sensitive than their neighbors."
   ]
  },
  {
   "cell_type": "code",
   "execution_count": null,
   "id": "fb5de8f7",
   "metadata": {},
   "outputs": [],
   "source": [
    "6. In comparison to LeNet-5, what are the main innovations in AlexNet? What about GoogLeNet and ResNet's core innovations ?\n",
    "Ans: AlexNet\n",
    "\n",
    "it is much larger and deeper\n",
    "stacks convolutional layer directly on top of each convlutional layer\n",
    "GooLeNet\n",
    "\n",
    "introduce a inception modules, which make it possible to have much deeper net than previous network\n",
    "ResNet\n",
    "\n",
    "introduce a skip connection."
   ]
  },
  {
   "cell_type": "code",
   "execution_count": null,
   "id": "2d577bf8",
   "metadata": {},
   "outputs": [],
   "source": [
    "7. On MNIST, build your own CNN and strive to achieve the best possible accuracy.\n",
    "Ans: The best known MNIST classifier found on the internet achieves 99.8% accuracy!!"
   ]
  }
 ],
 "metadata": {
  "kernelspec": {
   "display_name": "Python 3 (ipykernel)",
   "language": "python",
   "name": "python3"
  },
  "language_info": {
   "codemirror_mode": {
    "name": "ipython",
    "version": 3
   },
   "file_extension": ".py",
   "mimetype": "text/x-python",
   "name": "python",
   "nbconvert_exporter": "python",
   "pygments_lexer": "ipython3",
   "version": "3.9.7"
  }
 },
 "nbformat": 4,
 "nbformat_minor": 5
}
