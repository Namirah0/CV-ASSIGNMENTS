{
 "cells": [
  {
   "cell_type": "code",
   "execution_count": null,
   "id": "8571f749",
   "metadata": {},
   "outputs": [],
   "source": [
    "1. Why don't we start all of the weights with zeros?\n",
    "Ans:If we initialized all the weights with 0, then what happens is that the derivative wrt loss function is the same for every\n",
    "    weight in W[l], thus all weights have the same value in subsequent iterations. This makes hidden layers symmetric and this \n",
    "    process continues for all the n iterations."
   ]
  },
  {
   "cell_type": "code",
   "execution_count": null,
   "id": "86420b1a",
   "metadata": {},
   "outputs": [],
   "source": [
    "2. Why is it beneficial to start weights with a mean zero distribution?\n",
    "Ans:Initializing all the weights with zeros leads the neurons to learn the same features during training. In fact, any constant\n",
    "    initialization scheme will perform very poorly.\n",
    "    The weights of artificial neural networks must be initialized to small random numbers. This is because this is an \n",
    "    expectation of the stochastic optimization algorithm used to train the model, called stochastic gradient descent."
   ]
  },
  {
   "cell_type": "code",
   "execution_count": null,
   "id": "9084941d",
   "metadata": {},
   "outputs": [],
   "source": [
    "3. What is dilated convolution, and how does it work?\n",
    "Ans:Dilated Convolutions are a type of convolution that “inflate” the kernel by inserting holes between the kernel elements. \n",
    "    An additional parameter (dilation rate) indicates how much the kernel is widened. There are usually spaces inserted between\n",
    "    kernel elements."
   ]
  },
  {
   "cell_type": "code",
   "execution_count": null,
   "id": "ddb0247c",
   "metadata": {},
   "outputs": [],
   "source": [
    "4. What is TRANSPOSED CONVOLUTION, and how does it work?\n",
    "Ans:Transposed convolutions are standard convolutions but with a modified input feature map. The stride and padding do not \n",
    "    correspond to the number of zeros added around the image and the amount of shift in the kernel when sliding it across the \n",
    "    input, as they would in a standard convolution operation."
   ]
  },
  {
   "cell_type": "code",
   "execution_count": null,
   "id": "44f09547",
   "metadata": {},
   "outputs": [],
   "source": [
    "5.Explain Separable convolution\n",
    "Ans:A Separable Convolution is a process in which a single convolution can be divided into two or more convolutions to produce\n",
    "    the same output. A single process is divided into two or more sub-processes to achieve the same effect."
   ]
  },
  {
   "cell_type": "code",
   "execution_count": null,
   "id": "b9150737",
   "metadata": {},
   "outputs": [],
   "source": [
    "6.What is depthwise convolution, and how does it work?\n",
    "Ans:Depthwise Convolution is a type of convolution where we apply a single convolutional filter for each input channel. In the\n",
    "    regular 2D convolution performed over multiple input channels, the filter is as deep as the input and lets us freely mix \n",
    "    channels to generate each element in the output."
   ]
  },
  {
   "cell_type": "code",
   "execution_count": null,
   "id": "894052b6",
   "metadata": {},
   "outputs": [],
   "source": [
    "7.What is Depthwise separable convolution, and how does it work?\n",
    "Ans:Depthwise Separable Convolutions. Unlike spatial separable convolutions, depthwise separable convolutions work with kernels\n",
    "    that cannot be “factored” into two smaller kernels. Hence, it is more commonly used. This is the type of separable \n",
    "    convolution seen in keras."
   ]
  },
  {
   "cell_type": "code",
   "execution_count": null,
   "id": "876be681",
   "metadata": {},
   "outputs": [],
   "source": [
    "8.Capsule networks are what they sound like.\n",
    "Ans:A capsule is a group of neurons whose activity vector represents the instantiation parameters of a specific type of \n",
    "    entity such as an object or an object part. We use the length of the activity vector to represent the probability that the\n",
    "    entity exists and its orientation to represent the instantiation parameters."
   ]
  },
  {
   "cell_type": "code",
   "execution_count": null,
   "id": "abbdd460",
   "metadata": {},
   "outputs": [],
   "source": [
    "9. Why is POOLING such an important operation in CNNs?\n",
    "AnsIn general, pooling layers are useful when you want to detect an object in an image regardless of its position in the image.\n",
    "The consequence of adding pooling layers is the reduction of overfitting, increased efficiency, and faster training times in a \n",
    "CNN model."
   ]
  },
  {
   "cell_type": "code",
   "execution_count": null,
   "id": "70b5a556",
   "metadata": {},
   "outputs": [],
   "source": [
    "10. What are receptive fields and how do they work?\n",
    "Ans:In the somatosensory system, receptive fields are regions of the skin or of internal organs. Some types of \n",
    "    mechanoreceptors have large receptive fields, while others have smaller ones. Large receptive fields allow the cell to \n",
    "    detect changes over a wider area, but lead to a less precise perception."
   ]
  }
 ],
 "metadata": {
  "kernelspec": {
   "display_name": "Python 3 (ipykernel)",
   "language": "python",
   "name": "python3"
  },
  "language_info": {
   "codemirror_mode": {
    "name": "ipython",
    "version": 3
   },
   "file_extension": ".py",
   "mimetype": "text/x-python",
   "name": "python",
   "nbconvert_exporter": "python",
   "pygments_lexer": "ipython3",
   "version": "3.9.7"
  }
 },
 "nbformat": 4,
 "nbformat_minor": 5
}
