{
 "cells": [
  {
   "cell_type": "code",
   "execution_count": null,
   "id": "97434443",
   "metadata": {},
   "outputs": [],
   "source": [
    "1. Describe the Quick R-CNN architecture ?\n",
    "Ans: The Fast R-CNN consists of a CNN (usually pre-trained on the ImageNet classification task) with its final pooling layer\n",
    "    replaced by an “ROI pooling” layer and its final FC layer is replaced by two branches — a (K + 1) category softmax layer \n",
    "    branch and a category-specific bounding box regression branch."
   ]
  },
  {
   "cell_type": "code",
   "execution_count": null,
   "id": "6d3c6a2d",
   "metadata": {},
   "outputs": [],
   "source": [
    "2. Describe two Fast R-CNN loss functions ?\n",
    "Ans: Loss Function for the Fast R-CNN Layer\n",
    "\n",
    "is the predicted probability for the proposed region belonging to class c, that is, the ground truth class."
   ]
  },
  {
   "cell_type": "code",
   "execution_count": null,
   "id": "f2b51df4",
   "metadata": {},
   "outputs": [],
   "source": [
    "3. Describe the DISABILITIES OF FAST R-CNN ?\n",
    "Ans:Drawbacks. One drawback of Faster R-CNN is that the RPN is trained where all anchors in the mini-batch, of size 256, are \n",
    "    extracted from a single image. Because all samples from a single image may be correlated (i.e. their features are similar),\n",
    "    the network may take a lot of time until reaching convergence."
   ]
  },
  {
   "cell_type": "code",
   "execution_count": null,
   "id": "5be30a4b",
   "metadata": {},
   "outputs": [],
   "source": [
    "4. Describe how the area proposal network works ?\n",
    "Ans: A Region Proposal Network, or RPN, is a fully convolutional network that simultaneously predicts object bounds and \n",
    "    objectness scores at each position. The RPN is trained end-to-end to generate high-quality region proposals."
   ]
  },
  {
   "cell_type": "code",
   "execution_count": null,
   "id": "a880283c",
   "metadata": {},
   "outputs": [],
   "source": [
    "5. Describe how theThe RoI Pooling layer  works?\n",
    "Ans: The RoI Pooling layer is just a type of max-pooling, where the pool size is dependent on the input size. Doing this \n",
    "    ensures that the output is always of the same size. This layer is used because the fully-connected layer always expects \n",
    "    the same input size, but input regions to the FC layer may have different sizes."
   ]
  },
  {
   "cell_type": "code",
   "execution_count": null,
   "id": "219797fc",
   "metadata": {},
   "outputs": [],
   "source": [
    "6. What are fully convolutional networks and how do they work? (FCNs) ?\n",
    "Ans:Fully Convolutional Networks, or FCNs, are an architecture used mainly for semantic segmentation. They employ solely \n",
    "    locally connected layers, such as convolution, pooling and upsampling. Avoiding the use of dense layers means less \n",
    "    parameters (making the networks faster to train)."
   ]
  },
  {
   "cell_type": "code",
   "execution_count": null,
   "id": "02517f65",
   "metadata": {},
   "outputs": [],
   "source": [
    "7. What are anchor boxes and how do you use them ?\n",
    "Ans: Anchor boxes are a set of predefined bounding boxes of a certain height and width. These boxes are defined to capture the\n",
    "    scale and aspect ratio of specific object classes you want to detect and are typically chosen based on object sizes in your\n",
    "    training datasets."
   ]
  },
  {
   "cell_type": "code",
   "execution_count": null,
   "id": "5c9b651b",
   "metadata": {},
   "outputs": [],
   "source": [
    "8. Describe the Single-shot Detector's architecture (SSD) ?\n",
    "Ans: SSD has two components: a backbone model and SSD head. Backbone model usually is a pre-trained image classification \n",
    "        network as a feature extractor. This is typically a network like ResNet trained on ImageNet from which the final fully\n",
    "        connected classification layer has been removed."
   ]
  },
  {
   "cell_type": "code",
   "execution_count": null,
   "id": "f9e9c0fd",
   "metadata": {},
   "outputs": [],
   "source": [
    "9. HOW DOES THE SSD NETWORK PREDICT ?\n",
    "Ans:SSD uses a matching phase while training, to match the appropriate anchor box with the bounding boxes of each ground truth\n",
    "    object within an image. Essentially, the anchor box with the highest degree of overlap with an object is responsible for \n",
    "    predicting that object's class and its location."
   ]
  },
  {
   "cell_type": "code",
   "execution_count": null,
   "id": "dcce5a82",
   "metadata": {},
   "outputs": [],
   "source": [
    "10. Explain Multi Scale Detections ?\n",
    "Ans: Most filters are applied to an image at a fixed scale, while image features occur at all scales. ImagePyramid creates\n",
    "    different resolutions of an image. Results of filtering all levels of image pyramid can be combined to create a multiscale \n",
    "    feature detection.\n",
    "    multi-scale architecture\" means that the latent space of the generative model is split up across multiple feature maps of\n",
    "    different resolutions, and the model has to integrate \"information\" across these different scales to perform \n",
    "    inference/sampling."
   ]
  },
  {
   "cell_type": "code",
   "execution_count": null,
   "id": "c0763ca3",
   "metadata": {},
   "outputs": [],
   "source": [
    "11. What are dilated (or atrous) convolutions ?\n",
    "Ans: Dilated convolutions or atrous convolutions, previously described for wavelet analysis without signal decimation, \n",
    "    expands window size without increasing the number of weights by inserting zero-values into convolution kernels."
   ]
  }
 ],
 "metadata": {
  "kernelspec": {
   "display_name": "Python 3 (ipykernel)",
   "language": "python",
   "name": "python3"
  },
  "language_info": {
   "codemirror_mode": {
    "name": "ipython",
    "version": 3
   },
   "file_extension": ".py",
   "mimetype": "text/x-python",
   "name": "python",
   "nbconvert_exporter": "python",
   "pygments_lexer": "ipython3",
   "version": "3.9.7"
  }
 },
 "nbformat": 4,
 "nbformat_minor": 5
}
